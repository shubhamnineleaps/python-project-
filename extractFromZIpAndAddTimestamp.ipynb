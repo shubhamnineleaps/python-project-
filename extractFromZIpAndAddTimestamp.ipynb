{
 "cells": [
  {
   "cell_type": "code",
   "execution_count": 216,
   "id": "2c7d97a1-4c50-4768-b5a7-943063a8983c",
   "metadata": {},
   "outputs": [],
   "source": [
    "import os\n",
    "import pandas as pd\n",
    "import zipfile\n",
    "import time"
   ]
  },
  {
   "cell_type": "code",
   "execution_count": 217,
   "id": "3588c6d9-6539-49c3-9155-ff59f7d53faf",
   "metadata": {},
   "outputs": [],
   "source": [
    "zip_file_path = \"/home/nineleaps/Downloads/20240305124003123456_Extract 2.zip\""
   ]
  },
  {
   "cell_type": "code",
   "execution_count": 218,
   "id": "9c4dcb48-d036-41bc-ac6a-f6d9bbd67d34",
   "metadata": {},
   "outputs": [],
   "source": [
    "extract_folder = \"/home/nineleaps/Downloads/newfolder/\" "
   ]
  },
  {
   "cell_type": "code",
   "execution_count": 219,
   "id": "152eddf6-8e46-4d4e-92da-ac5bf91ba6f9",
   "metadata": {},
   "outputs": [
    {
     "name": "stdout",
     "output_type": "stream",
     "text": [
      "/home/nineleaps/Downloads/newfolder/\n"
     ]
    }
   ],
   "source": [
    "with zipfile.ZipFile(zip_file_path, 'r') as zip_ref:\n",
    "    zip_ref.extractall(extract_folder)"
   ]
  },
  {
   "cell_type": "code",
   "execution_count": 210,
   "id": "f199f293-21b0-4a35-a8e3-1b8d309b6d9e",
   "metadata": {},
   "outputs": [
    {
     "name": "stdout",
     "output_type": "stream",
     "text": [
      "['sample.csv', '__MACOSX', 'sample2.csv', '20240305124003123456_Extract.zip']\n",
      "__MACOSX\n"
     ]
    }
   ],
   "source": [
    "extracted_files = os.listdir(extract_folder)\n",
    "print(extracted_files)"
   ]
  },
  {
   "cell_type": "code",
   "execution_count": 211,
   "id": "11f59f0c-a0e7-4993-8ff9-fdb487ea9a7c",
   "metadata": {},
   "outputs": [
    {
     "name": "stdout",
     "output_type": "stream",
     "text": [
      "1712062229.0214672\n"
     ]
    }
   ],
   "source": [
    "c_time = os.path.getctime(zip_file_path)\n",
    "print(c_time)"
   ]
  },
  {
   "cell_type": "code",
   "execution_count": 212,
   "id": "7cb6f0fa-8ddf-45c6-a1ef-4d89103d05bf",
   "metadata": {},
   "outputs": [
    {
     "name": "stdout",
     "output_type": "stream",
     "text": [
      "Tue Apr  2 18:20:29 2024\n"
     ]
    }
   ],
   "source": [
    "time_format = time.ctime(c_time)\n",
    "print(time_format)"
   ]
  },
  {
   "cell_type": "code",
   "execution_count": 213,
   "id": "54b64287-beb7-42f6-8cde-51c4ef459fd9",
   "metadata": {},
   "outputs": [
    {
     "name": "stdout",
     "output_type": "stream",
     "text": [
      "time.struct_time(tm_year=2024, tm_mon=4, tm_mday=2, tm_hour=18, tm_min=20, tm_sec=29, tm_wday=1, tm_yday=93, tm_isdst=-1)\n",
      "2024-04-02 18:20:29\n"
     ]
    }
   ],
   "source": [
    "\n",
    "t_obj = time.strptime(time_format)\n",
    "print (t_obj)\n",
    "load_timestamp = time.strftime(\"%Y-%m-%d %H:%M:%S\",t_obj )\n",
    "print(load_timestamp)"
   ]
  },
  {
   "cell_type": "code",
   "execution_count": 215,
   "id": "56cc49ec-fbc5-4682-ba5b-dbf6a79c6437",
   "metadata": {},
   "outputs": [
    {
     "name": "stdout",
     "output_type": "stream",
     "text": [
      "sample.csv\n",
      "   InteractionId  ExternalInteractionId       load_timestamp\n",
      "0     1058812717             1058812717  2024-04-02 18:20:29\n",
      "1     1058812785             1058812785  2024-04-02 18:20:29\n",
      "sample2.csv\n",
      "  Name  Age       load_timestamp\n",
      "0  Abc   11  2024-04-02 18:20:29\n",
      "1  Xyz   11  2024-04-02 18:20:29\n"
     ]
    }
   ],
   "source": [
    "\n",
    "for file_name in extracted_files: \n",
    "    if file_name.endswith('.csv'):\n",
    "        print(file_name)\n",
    "        file_path = os.path.join(extract_folder, file_name)\n",
    "        df = pd.read_csv(file_path)\n",
    "        print(df)\n",
    "        df['load_timestamp'] = load_timestamp\n",
    "        df.to_csv(file_path, index=False)"
   ]
  },
  {
   "cell_type": "code",
   "execution_count": null,
   "id": "801c4e3f-4322-475d-8555-f45bc425db41",
   "metadata": {},
   "outputs": [],
   "source": []
  },
  {
   "cell_type": "code",
   "execution_count": null,
   "id": "985ae845-e81e-4bc7-a047-a2b98d7c220a",
   "metadata": {},
   "outputs": [],
   "source": []
  }
 ],
 "metadata": {
  "kernelspec": {
   "display_name": "Python 3 (ipykernel)",
   "language": "python",
   "name": "python3"
  },
  "language_info": {
   "codemirror_mode": {
    "name": "ipython",
    "version": 3
   },
   "file_extension": ".py",
   "mimetype": "text/x-python",
   "name": "python",
   "nbconvert_exporter": "python",
   "pygments_lexer": "ipython3",
   "version": "3.11.7"
  }
 },
 "nbformat": 4,
 "nbformat_minor": 5
}
